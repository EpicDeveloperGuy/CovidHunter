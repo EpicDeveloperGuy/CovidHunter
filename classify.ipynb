{
 "cells": [
  {
   "cell_type": "code",
   "execution_count": 3,
   "metadata": {},
   "outputs": [],
   "source": [
    "import numpy as np\n",
    "import pickle\n",
    "import pandas as pd \n",
    "import sklearn\n",
    "from sklearn.experimental import enable_iterative_imputer\n",
    "from sklearn.impute import IterativeImputer\n",
    "from sklearn.model_selection import RandomizedSearchCV\n",
    "from sklearn.ensemble import GradientBoostingRegressor as GBR\n",
    "from sklearn.metrics import mean_squared_error\n",
    "from sklearn.preprocessing import MinMaxScaler"
   ]
  },
  {
   "cell_type": "markdown",
   "metadata": {},
   "source": [
    "read file"
   ]
  },
  {
   "cell_type": "code",
   "execution_count": 4,
   "metadata": {},
   "outputs": [],
   "source": [
    "file = open('covid_dataset.pkl', 'rb')\n",
    "checkpoint = pickle.load(file)\n",
    "file.close()"
   ]
  },
  {
   "cell_type": "markdown",
   "metadata": {},
   "source": [
    "make data sets.  Fill in missing value with imputer (multivariate model).  Normalize data"
   ]
  },
  {
   "cell_type": "code",
   "execution_count": 206,
   "metadata": {},
   "outputs": [],
   "source": [
    "def norm(X):\n",
    "    scaler = MinMaxScaler()\n",
    "    scaler.fit(X)\n",
    "    return scaler.transform(X)\n",
    "\n",
    "def apply_norm_fix(X, should_norm):\n",
    "    X = np.array(X, dtype=np.float64)\n",
    "    imp = IterativeImputer(max_iter=1000, random_state=0)\n",
    "    imp.fit(X)\n",
    "    X = imp.transform(X)\n",
    "    if should_norm:\n",
    "        X = norm(X)\n",
    "    return X\n",
    "\n",
    "X_train  = apply_norm_fix(checkpoint[\"X_train\"], False)\n",
    "y_train = np.array(checkpoint[\"y_train_log_pos_cases\"], dtype=np.float64)\n",
    "\n",
    "X_val = apply_norm_fix(checkpoint[\"X_val\"], False)\n",
    "y_val = np.array(checkpoint[\"y_val_log_pos_cases\"], dtype=np.float64)\n",
    "\n",
    "big_X = apply_norm_fix(np.array(list(X_train) + list(X_val)), False)\n",
    "big_y = np.array(list(y_train) + list(y_val), dtype=np.float64)\n",
    "\n",
    "X_test = apply_norm_fix(checkpoint[\"X_test\"], False)"
   ]
  },
  {
   "cell_type": "markdown",
   "metadata": {},
   "source": [
    "Use algorithm (Gradient Boosted Tree with squared loss).  Hyper parameter search using randomized search."
   ]
  },
  {
   "cell_type": "code",
   "execution_count": 210,
   "metadata": {},
   "outputs": [
    {
     "name": "stdout",
     "output_type": "stream",
     "text": [
      "0.8694415572117508\n"
     ]
    }
   ],
   "source": [
    "params = {'learning_rate': np.linspace(0.1, 0.7, 1000, dtype=np.float64), 'n_estimators': np.linspace(10, 120, 110, dtype=np.int32), 'max_depth': [1], 'random_state' : [0], 'loss': ['lad']}\n",
    "#n_est 110, lr 0.128\n",
    "algorithm = GBR(random_state=0, n_estimators=10000, loss='lad', learning_rate=0.45, max_depth=3)\n",
    "x = X_train\n",
    "y = y_train\n",
    "model = algorithm.fit(x, y)\n",
    "preds = model.predict(X_val)\n",
    "mse = mean_squared_error(y_val, preds)\n",
    "print(mse)\n",
    "\n",
    "test_pred = model.predict(X_test)\n",
    "pd.DataFrame(test_pred).to_csv(\"predictions.csv\", header=[\"cases\"], index_label=\"id\")"
   ]
  },
  {
   "cell_type": "code",
   "execution_count": 163,
   "metadata": {},
   "outputs": [
    {
     "name": "stdout",
     "output_type": "stream",
     "text": [
      "{'random_state': 0, 'n_estimators': 28, 'max_depth': 1, 'loss': 'lad', 'learning_rate': 0.5534534534534534}\n"
     ]
    }
   ],
   "source": [
    "print(model.best_params_)"
   ]
  }
 ],
 "metadata": {
  "interpreter": {
   "hash": "8b1c98d644dfbbc32f55b67c5ef21486307d5ba1f67b63f62af861b14c350329"
  },
  "kernelspec": {
   "display_name": "Python 3.8.8 64-bit ('base': conda)",
   "language": "python",
   "name": "python3"
  },
  "language_info": {
   "codemirror_mode": {
    "name": "ipython",
    "version": 3
   },
   "file_extension": ".py",
   "mimetype": "text/x-python",
   "name": "python",
   "nbconvert_exporter": "python",
   "pygments_lexer": "ipython3",
   "version": "3.8.8"
  },
  "orig_nbformat": 4
 },
 "nbformat": 4,
 "nbformat_minor": 2
}
