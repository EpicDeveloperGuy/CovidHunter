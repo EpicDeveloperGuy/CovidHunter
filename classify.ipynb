{
 "cells": [
  {
   "cell_type": "code",
   "execution_count": null,
   "metadata": {},
   "outputs": [],
   "source": [
    "import numpy as np\n",
    "import math\n",
    "import pickle\n",
    "import pandas as pd \n",
    "import sklearn\n",
    "from sklearn.model_selection import RandomizedSearchCV\n",
    "from sklearn.svm import SVR\n",
    "from sklearn.linear_model import Ridge\n",
    "from sklearn.ensemble import GradientBoostingRegressor as GBR\n",
    "from sklearn.ensemble import RandomForestRegressor as RFR\n",
    "from sklearn.ensemble import ExtraTreesRegressor as ETR\n",
    "from sklearn.metrics import mean_squared_error\n",
    "from sklearn.preprocessing import MinMaxScaler\n",
    "from sklearn.ensemble import VotingRegressor"
   ]
  },
  {
   "cell_type": "markdown",
   "metadata": {},
   "source": [
    "read file"
   ]
  },
  {
   "cell_type": "code",
   "execution_count": null,
   "metadata": {},
   "outputs": [],
   "source": [
    "file = open('covid_dataset.pkl', 'rb')\n",
    "checkpoint = pickle.load(file)\n",
    "file.close()"
   ]
  },
  {
   "cell_type": "markdown",
   "metadata": {},
   "source": [
    "make data sets"
   ]
  },
  {
   "cell_type": "code",
   "execution_count": null,
   "metadata": {},
   "outputs": [],
   "source": [
    "def fix(X):\n",
    "    return np.nan_to_num(np.array(X, dtype=np.float64))\n",
    "\n",
    "def norm(X):\n",
    "    scaler = MinMaxScaler()\n",
    "    scaler.fit(X)\n",
    "    return scaler.transform(X)\n",
    "\n",
    "def apply_norm_fix(X, should_norm):\n",
    "    X = fix(X)\n",
    "    if should_norm:\n",
    "        X = norm(X)\n",
    "    return X\n",
    "\n",
    "X_train  = apply_norm_fix(checkpoint[\"X_train\"], False)\n",
    "y_train = apply_norm_fix(checkpoint[\"y_train_log_pos_cases\"], False)\n",
    "X_val = apply_norm_fix(checkpoint[\"X_val\"], False)\n",
    "y_val = apply_norm_fix(checkpoint[\"y_val_log_pos_cases\"], False)\n",
    "big_X = apply_norm_fix(list(X_train) + list(X_val), False)\n",
    "big_y = apply_norm_fix(list(y_train) + list(y_val), False)\n",
    "X_test = apply_norm_fix(checkpoint[\"X_test\"], False)"
   ]
  },
  {
   "cell_type": "markdown",
   "metadata": {},
   "source": [
    "Use algorithm"
   ]
  },
  {
   "cell_type": "code",
   "execution_count": null,
   "metadata": {},
   "outputs": [],
   "source": [
    "epochs = 1000\n",
    "best_valid = math.inf\n",
    "best_model = None\n",
    "params = {'n_estimators': np.linspace(10, 1000, 100, dtype=np.int32), 'max_depth': np.linspace(10, 100, 10, dtype=np.int32)}\n",
    "\n",
    "algorithm = ETR(n_estimators=10000, n_jobs=5)\n",
    "x = X_train\n",
    "y = y_train\n",
    "model = algorithm.fit(x, y)\n",
    "preds = model.predict(X_val)\n",
    "mse = mean_squared_error(y_val, preds)\n",
    "print(mse)\n",
    "\n",
    "test_pred = model.predict(X_test)\n",
    "\n",
    "pd.DataFrame(test_pred).to_csv(\"predictions.csv\", header=[\"cases\"], index_label=\"id\")"
   ]
  }
 ],
 "metadata": {
  "language_info": {
   "name": "python"
  },
  "orig_nbformat": 4
 },
 "nbformat": 4,
 "nbformat_minor": 2
}
