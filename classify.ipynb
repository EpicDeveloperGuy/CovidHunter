{
 "cells": [
  {
   "cell_type": "code",
   "execution_count": 88,
   "metadata": {},
   "outputs": [],
   "source": [
    "import numpy as np\n",
    "import math\n",
    "import pickle\n",
    "import pandas as pd \n",
    "import sklearn\n",
    "from sklearn.experimental import enable_iterative_imputer\n",
    "from sklearn.impute import IterativeImputer\n",
    "from sklearn.model_selection import RandomizedSearchCV\n",
    "from sklearn.kernel_ridge import KernelRidge\n",
    "from sklearn.svm import SVR\n",
    "from sklearn.ensemble import GradientBoostingRegressor as GBR\n",
    "from sklearn.ensemble import RandomForestRegressor as RFR\n",
    "from sklearn.metrics import mean_squared_error\n",
    "from sklearn.preprocessing import MinMaxScaler"
   ]
  },
  {
   "cell_type": "markdown",
   "metadata": {},
   "source": [
    "read file"
   ]
  },
  {
   "cell_type": "code",
   "execution_count": 3,
   "metadata": {},
   "outputs": [],
   "source": [
    "file = open('covid_dataset.pkl', 'rb')\n",
    "checkpoint = pickle.load(file)\n",
    "file.close()"
   ]
  },
  {
   "cell_type": "markdown",
   "metadata": {},
   "source": [
    "make data sets"
   ]
  },
  {
   "cell_type": "code",
   "execution_count": 110,
   "metadata": {},
   "outputs": [],
   "source": [
    "def norm(X):\n",
    "    scaler = MinMaxScaler()\n",
    "    scaler.fit(X)\n",
    "    return scaler.transform(X)\n",
    "\n",
    "def apply_norm_fix(X, should_norm):\n",
    "    X = np.array(X, dtype=np.float64)\n",
    "    imp = IterativeImputer(max_iter=1000, random_state=0)\n",
    "    imp.fit(X)\n",
    "    X = imp.transform(X)\n",
    "    if should_norm:\n",
    "        X = norm(X)\n",
    "    return X\n",
    "\n",
    "X_train  = apply_norm_fix(checkpoint[\"X_train\"], True)\n",
    "y_train = np.array(checkpoint[\"y_train_log_pos_cases\"], dtype=np.float64)\n",
    "\n",
    "#keep = np.isfinite(X_train).all(axis=1)\n",
    "\n",
    "#X_train = X_train[keep]\n",
    "#y_train = y_train[keep]\n",
    "\n",
    "X_val = apply_norm_fix(checkpoint[\"X_val\"], True)\n",
    "y_val = np.array(checkpoint[\"y_val_log_pos_cases\"], dtype=np.float64)\n",
    "\n",
    "#keep = np.isfinite(X_val).all(axis=1)\n",
    "\n",
    "#X_val = X_val[keep]\n",
    "#y_val = y_val[keep]\n",
    "\n",
    "big_X = apply_norm_fix(np.array(list(X_train) + list(X_val)), False)\n",
    "big_y = np.array(list(y_train) + list(y_val), dtype=np.float64)\n",
    "\n",
    "#keep = np.isfinite(big_X).all(axis=1)\n",
    "\n",
    "#big_X = big_X[keep]\n",
    "#big_y = big_y[keep]\n",
    "\n",
    "X_test = apply_norm_fix(checkpoint[\"X_test\"], True)"
   ]
  },
  {
   "cell_type": "markdown",
   "metadata": {},
   "source": [
    "Use algorithm"
   ]
  },
  {
   "cell_type": "code",
   "execution_count": 223,
   "metadata": {},
   "outputs": [
    {
     "name": "stdout",
     "output_type": "stream",
     "text": [
      "2.181926899543532\n"
     ]
    }
   ],
   "source": [
    "params = {'learning_rate': np.linspace(0.001, 1, 100000, dtype=np.float64), 'n_estimators': np.linspace(1, 1000, 1000, dtype=np.int32)}\n",
    "\n",
    "algorithm = RandomizedSearchCV(GBR(), params, n_jobs=-1)\n",
    "x = X_train\n",
    "y = y_train\n",
    "model = algorithm.fit(x, y)\n",
    "preds = model.predict(X_val)\n",
    "mse = mean_squared_error(y_val, preds)\n",
    "print(mse)\n",
    "\n",
    "test_pred = model.predict(X_test)\n",
    "pd.DataFrame(test_pred).to_csv(\"predictions.csv\", header=[\"cases\"], index_label=\"id\")"
   ]
  },
  {
   "cell_type": "code",
   "execution_count": 224,
   "metadata": {},
   "outputs": [
    {
     "name": "stdout",
     "output_type": "stream",
     "text": [
      "{'n_estimators': 662, 'learning_rate': 0.16349896498964991}\n"
     ]
    }
   ],
   "source": [
    "print(model.best_params_)"
   ]
  }
 ],
 "metadata": {
  "interpreter": {
   "hash": "8b1c98d644dfbbc32f55b67c5ef21486307d5ba1f67b63f62af861b14c350329"
  },
  "kernelspec": {
   "display_name": "Python 3.8.8 64-bit ('base': conda)",
   "language": "python",
   "name": "python3"
  },
  "language_info": {
   "codemirror_mode": {
    "name": "ipython",
    "version": 3
   },
   "file_extension": ".py",
   "mimetype": "text/x-python",
   "name": "python",
   "nbconvert_exporter": "python",
   "pygments_lexer": "ipython3",
   "version": "3.8.8"
  },
  "orig_nbformat": 4
 },
 "nbformat": 4,
 "nbformat_minor": 2
}
