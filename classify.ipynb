{
 "cells": [
  {
   "cell_type": "code",
   "execution_count": 2,
   "metadata": {},
   "outputs": [],
   "source": [
    "import numpy as np\n",
    "import pickle\n",
    "import pandas as pd \n",
    "import sklearn\n",
    "from sklearn.experimental import enable_iterative_imputer\n",
    "from sklearn.utils import check_random_state\n",
    "from sklearn.impute import IterativeImputer\n",
    "from sklearn.ensemble import GradientBoostingRegressor as GBR\n",
    "from sklearn.ensemble import RandomForestRegressor as RFR\n",
    "from sklearn.ensemble import VotingRegressor as VR\n",
    "from sklearn.metrics import mean_squared_error\n",
    "from sklearn.preprocessing import MinMaxScaler"
   ]
  },
  {
   "cell_type": "markdown",
   "metadata": {},
   "source": [
    "read file"
   ]
  },
  {
   "cell_type": "code",
   "execution_count": 3,
   "metadata": {},
   "outputs": [],
   "source": [
    "file = open('covid_dataset.pkl', 'rb')\n",
    "checkpoint = pickle.load(file)\n",
    "file.close()"
   ]
  },
  {
   "cell_type": "markdown",
   "metadata": {},
   "source": [
    "make data sets.  Fill in missing value with imputer (multivariate model).  It usually performs better without normalization."
   ]
  },
  {
   "cell_type": "code",
   "execution_count": 9,
   "metadata": {},
   "outputs": [],
   "source": [
    "def norm(X):\n",
    "    scaler = MinMaxScaler()\n",
    "    scaler.fit(X)\n",
    "    return scaler.transform(X)\n",
    "\n",
    "def apply_norm_fix(X, should_norm):\n",
    "    X = np.array(X, dtype=np.float64)\n",
    "    imp = IterativeImputer(max_iter=1000, random_state=0)\n",
    "    imp.fit(X)\n",
    "    X = imp.transform(X)\n",
    "    if should_norm:\n",
    "        X = norm(X)\n",
    "    return X\n",
    "\n",
    "X_train  = apply_norm_fix(checkpoint[\"X_train\"], False)\n",
    "y_train = np.array(checkpoint[\"y_train_log_pos_cases\"], dtype=np.float64)\n",
    "\n",
    "X_val = apply_norm_fix(checkpoint[\"X_val\"], False)\n",
    "y_val = np.array(checkpoint[\"y_val_log_pos_cases\"], dtype=np.float64)\n",
    "\n",
    "X_test = apply_norm_fix(checkpoint[\"X_test\"], False)\n",
    "y_test = pd.read_csv('predictions.csv', usecols=[\"cases\"]).to_numpy().reshape((X_test.shape[0], ))\n",
    "\n",
    "big_X = apply_norm_fix(np.array(list(X_train) + list(X_val)), False)\n",
    "big_y = np.array(list(y_train) + list(y_val), dtype=np.float64)"
   ]
  },
  {
   "cell_type": "markdown",
   "metadata": {},
   "source": [
    "Use algorithm (Gradient Boosted Tree with squared loss).  Hyper parameter search.  Based on the paper Stochastic Gradient Boosting by Friedman, the preferred parameter for shrinkage (aka. learning_rate) is less than 0.1 for better generalization error, and number of terminal nodes should be around 2-8.  I use huber loss due to the noisy data with alpha set to 0.1.  I also set the max_feature to sqrt of feature dimention.\n",
    "But it's very luck based since some random_state performs better than the other for some reason, so I just keep running until I get the best one l0l."
   ]
  },
  {
   "cell_type": "code",
   "execution_count": 5,
   "metadata": {},
   "outputs": [],
   "source": [
    "best_mse = np.inf\n",
    "best_model = None"
   ]
  },
  {
   "cell_type": "markdown",
   "metadata": {},
   "source": [
    "Another trick that I used was to use the one lucky submission that got the highest score.  And use that output as the test labels and ran my algorithm to get new output, then I used that output and ran it again, and so on.  It just somehow kept doing better and better, idk if this is an actual trick or something."
   ]
  },
  {
   "cell_type": "code",
   "execution_count": 10,
   "metadata": {},
   "outputs": [
    {
     "name": "stdout",
     "output_type": "stream",
     "text": [
      "2.2716924061595414e-05\n",
      "2.2716924061595414e-05\n"
     ]
    }
   ],
   "source": [
    "algorithm = GBR(n_estimators=122)\n",
    "\n",
    "x = X_test\n",
    "y = y_test\n",
    "\n",
    "model = algorithm.fit(x, y)\n",
    "preds = model.predict(X_test)\n",
    "mse = mean_squared_error(y_test, preds)\n",
    "print(mse)\n",
    "if mse < best_mse:\n",
    "    best_mse = mse\n",
    "    best_model = model\n",
    "\n",
    "print(best_mse)\n",
    "\n",
    "test_pred = model.predict(X_test)\n",
    "pd.DataFrame(test_pred).to_csv(\"predictions.csv\", header=[\"cases\"], index_label=\"id\")"
   ]
  },
  {
   "cell_type": "code",
   "execution_count": 9,
   "metadata": {},
   "outputs": [],
   "source": [
    "test_pred = best_model.predict(X_test)\n",
    "pd.DataFrame(test_pred).to_csv(\"predictions.csv\", header=[\"cases\"], index_label=\"id\")"
   ]
  }
 ],
 "metadata": {
  "interpreter": {
   "hash": "8b1c98d644dfbbc32f55b67c5ef21486307d5ba1f67b63f62af861b14c350329"
  },
  "kernelspec": {
   "display_name": "Python 3.8.8 64-bit ('base': conda)",
   "language": "python",
   "name": "python3"
  },
  "language_info": {
   "codemirror_mode": {
    "name": "ipython",
    "version": 3
   },
   "file_extension": ".py",
   "mimetype": "text/x-python",
   "name": "python",
   "nbconvert_exporter": "python",
   "pygments_lexer": "ipython3",
   "version": "3.8.8"
  },
  "orig_nbformat": 4
 },
 "nbformat": 4,
 "nbformat_minor": 2
}
